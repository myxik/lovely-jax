{
 "cells": [
  {
   "attachments": {},
   "cell_type": "markdown",
   "metadata": {},
   "source": [
    "## 🧂 Misc utils"
   ]
  },
  {
   "cell_type": "code",
   "execution_count": null,
   "metadata": {},
   "outputs": [],
   "source": [
    "#| default_exp utils.misc"
   ]
  },
  {
   "cell_type": "code",
   "execution_count": null,
   "metadata": {},
   "outputs": [],
   "source": [
    "# |hide\n",
    "import nbdev; nbdev.nbdev_export()"
   ]
  },
  {
   "cell_type": "code",
   "execution_count": null,
   "metadata": {},
   "outputs": [],
   "source": [
    "# |hide\n",
    "from nbdev.showdoc import *\n",
    "\n",
    "\n",
    "from lovely_jax import monkey_patch"
   ]
  },
  {
   "cell_type": "code",
   "execution_count": null,
   "metadata": {},
   "outputs": [],
   "source": [
    "# |hide\n",
    "monkey_patch()"
   ]
  },
  {
   "cell_type": "code",
   "execution_count": null,
   "metadata": {},
   "outputs": [],
   "source": [
    "# |export\n",
    "\n",
    "import numpy as np\n",
    "import jax, jax.numpy as jnp\n",
    "\n",
    "from fastcore.test import test_eq"
   ]
  },
  {
   "cell_type": "code",
   "execution_count": null,
   "metadata": {},
   "outputs": [],
   "source": [
    "# |exporti\n",
    "def to_numpy(t):\n",
    "    if t.dtype == jnp.bfloat16:\n",
    "        t = np.array(t, dtype=np.float32)\n",
    "    return t"
   ]
  },
  {
   "cell_type": "code",
   "execution_count": null,
   "metadata": {},
   "outputs": [],
   "source": [
    "# |exporti\n",
    "def is_cpu(t: jax.Array):\n",
    "    return t.device() == jax.devices(\"cpu\")[0]\n"
   ]
  },
  {
   "cell_type": "code",
   "execution_count": null,
   "metadata": {},
   "outputs": [],
   "source": [
    "# |exporti\n",
    "\n",
    "def test_array_repr(r: str, template:str):\n",
    "    # Depending on the jax version, the arrray type can be either \"Array\" or \"DeviceArray\".\n",
    "    # The remplate repr is of Array tyoe, but if our array is DeviceArray, it will be fine\n",
    "    # too.\n",
    "\n",
    "    if not ((template == r) or (template.replace(\"Array\", \"DeviceArray\") == r)):\n",
    "        print(f\"template: {template}\")\n",
    "        print(f\"r: {r}\")\n",
    "        raise Exception(\"The array repr is not as expected\")\n",
    "\n",
    "test_array_repr(\"DeviceArray[2] μ=-0.466 σ=1.515 gpu:0 [-1.981, 1.048]\",\n",
    "                \"Array[2] μ=-0.466 σ=1.515 gpu:0 [-1.981, 1.048]\")"
   ]
  },
  {
   "cell_type": "code",
   "execution_count": null,
   "metadata": {},
   "outputs": [],
   "source": []
  },
  {
   "cell_type": "code",
   "execution_count": null,
   "metadata": {},
   "outputs": [],
   "source": [
    "# Some rests for "
   ]
  },
  {
   "cell_type": "code",
   "execution_count": null,
   "metadata": {},
   "outputs": [
    {
     "data": {
      "text/plain": [
       "Array[10, 10, 3] bf16 n=300 x∈[1.000, 1.000] μ=1.000 σ=0. gpu:0"
      ]
     },
     "execution_count": null,
     "metadata": {},
     "output_type": "execute_result"
    }
   ],
   "source": [
    "bf16 = jnp.ones((10,10,3), dtype=jnp.bfloat16)\n",
    "bf16"
   ]
  },
  {
   "cell_type": "code",
   "execution_count": null,
   "metadata": {},
   "outputs": [],
   "source": [
    "# bf16.plt"
   ]
  },
  {
   "cell_type": "code",
   "execution_count": null,
   "metadata": {},
   "outputs": [
    {
     "data": {
      "image/png": "[encoded data removed]",
      "text/plain": [
       "<lovely_jax.repr_rgb.RGBProxy>"
      ]
     },
     "execution_count": null,
     "metadata": {},
     "output_type": "execute_result"
    }
   ],
   "source": [
    "bf16.rgb"
   ]
  },
  {
   "cell_type": "code",
   "execution_count": null,
   "metadata": {},
   "outputs": [],
   "source": [
    "# bf16.chans"
   ]
  },
  {
   "cell_type": "code",
   "execution_count": null,
   "metadata": {},
   "outputs": [],
   "source": [
    "# key = jax.random.PRNGKey(0)\n",
    "\n",
    "# cpu = jax.devices(\"cpu\")[0]\n",
    "\n",
    "# x1 = jax.device_put(jax.random.normal(key, (1024, 1024)), cpu)\n",
    "# x2 = jax.device_put(jax.random.normal(key, (1024, 1024)), cpu)\n",
    "\n",
    "# %timeit np.dot(np.array(x1), np.array(x2))"
   ]
  }
 ],
 "metadata": {
  "kernelspec": {
   "display_name": "jax",
   "language": "python",
   "name": "python3"
  }
 },
 "nbformat": 4,
 "nbformat_minor": 2
}
