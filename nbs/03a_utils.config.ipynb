{
 "cells": [
  {
   "cell_type": "markdown",
   "metadata": {},
   "source": [
    "# 🤔 Config"
   ]
  },
  {
   "cell_type": "code",
   "execution_count": null,
   "metadata": {},
   "outputs": [],
   "source": [
    "#|default_exp utils.config"
   ]
  },
  {
   "cell_type": "code",
   "execution_count": null,
   "metadata": {},
   "outputs": [],
   "source": [
    "# |hide\n",
    "import nbdev; nbdev.nbdev_export()"
   ]
  },
  {
   "cell_type": "code",
   "execution_count": null,
   "metadata": {},
   "outputs": [],
   "source": [
    "# |hide\n",
    "from nbdev.showdoc import *\n",
    "from fastcore.test import test_eq\n",
    "from lovely_jax.utils.misc import test_array_repr"
   ]
  },
  {
   "cell_type": "code",
   "execution_count": null,
   "metadata": {},
   "outputs": [],
   "source": [
    "# |hide\n",
    "# |export\n",
    "from copy import copy\n",
    "from types import SimpleNamespace\n",
    "from typing import Optional, Union, Callable, TypeVar\n",
    "from contextlib import contextmanager\n",
    "from lovely_numpy import config as np_config"
   ]
  },
  {
   "cell_type": "code",
   "execution_count": null,
   "metadata": {},
   "outputs": [],
   "source": [
    "# |exporti\n",
    "\n",
    "class Config(SimpleNamespace):\n",
    "    \"Config\"\n",
    "    def __init__(self,\n",
    "            precision     = 3,    # Digits after `.`\n",
    "            threshold_max = 3,    # .abs() larger than 1e3 -> Sci mode\n",
    "            threshold_min = -4,   # .abs() smaller that 1e-4 -> Sci mode\n",
    "            sci_mode      = None, # Sci mode (2.3e4). None=auto\n",
    "            indent        = 2,    # Indent for .deeper()\n",
    "            color         = True, # ANSI colors in text\n",
    "            deeper_width  = 9,    # For .deeper, width per level\n",
    "            plt_seed      = 42,   # Sampling seed for `plot`\n",
    "            fig_close     = True, # Close matplotlib Figure\n",
    "            fig_show      = False,# Call `plt.show()` for `.plt`, `.chans` and `.rgb`\n",
    "\n",
    "    ):\n",
    "        super().__init__(**{k:v for k,v in locals().items() if k not in [\"self\", \"__class__\"]})\n",
    "\n",
    "_defaults = Config()\n",
    "_config = copy(_defaults)"
   ]
  },
  {
   "cell_type": "markdown",
   "metadata": {},
   "source": [
    "### Defaults:"
   ]
  },
  {
   "cell_type": "code",
   "execution_count": null,
   "metadata": {},
   "outputs": [
    {
     "data": {
      "text/markdown": [
       "|    | **Type** | **Default** | **Details** |\n",
       "| -- | -------- | ----------- | ----------- |\n",
       "| precision | int | 3 | Digits after `.` |\n",
       "| threshold_max | int | 3 | .abs() larger than 1e3 -> Sci mode |\n",
       "| threshold_min | int | -4 | .abs() smaller that 1e-4 -> Sci mode |\n",
       "| sci_mode | NoneType | None | Sci mode (2.3e4). None=auto |\n",
       "| indent | int | 2 | Indent for .deeper() |\n",
       "| color | bool | True | ANSI colors in text |\n",
       "| deeper_width | int | 9 | For .deeper, width per level |\n",
       "| plt_seed | int | 42 | Sampling seed for `plot` |\n",
       "| fig_close | bool | True | Close matplotlib Figure |\n",
       "| fig_show | bool | False | Call `plt.show()` for `.plt`, `.chans` and `.rgb` |"
      ],
      "text/plain": [
       "<nbdev.showdoc.DocmentTbl>"
      ]
     },
     "execution_count": null,
     "metadata": {},
     "output_type": "execute_result"
    }
   ],
   "source": [
    "# |echo: false\n",
    "DocmentTbl(Config)"
   ]
  },
  {
   "cell_type": "code",
   "execution_count": null,
   "metadata": {},
   "outputs": [],
   "source": [
    "# |exporti\n",
    "\n",
    "# Allows passing None as an argument to reset the \n",
    "class _Default():\n",
    "    def __repr__(self):\n",
    "        return \"Ignore\"\n",
    "D = _Default()\n",
    "Default = TypeVar(\"Default\")"
   ]
  },
  {
   "cell_type": "code",
   "execution_count": null,
   "metadata": {},
   "outputs": [],
   "source": [
    "# |export\n",
    "\n",
    "def set_config( precision       :Optional[Union[Default,int]]  =D,\n",
    "                threshold_min   :Optional[Union[Default,int]]  =D,\n",
    "                threshold_max   :Optional[Union[Default,int]]  =D,\n",
    "                sci_mode        :Optional[Union[Default,bool]] =D,\n",
    "                indent          :Optional[Union[Default,bool]] =D,\n",
    "                color           :Optional[Union[Default,bool]] =D,\n",
    "                deeper_width    :Optional[Union[Default,int]]  =D,\n",
    "                plt_seed        :Optional[Union[Default,int]]  =D,\n",
    "                fig_close       :Optional[Union[Default,bool]] =D,\n",
    "                fig_show        :Optional[Union[Default,bool]] =D\n",
    "                ) -> None:\n",
    "\n",
    "    \"Set config variables\"\n",
    "    args = locals().copy()\n",
    "    for k,v in args.items():\n",
    "        if v != D:\n",
    "            if v is None:\n",
    "                setattr(_config, k, getattr(_defaults, k))\n",
    "            else:\n",
    "                setattr(_config, k, v)"
   ]
  },
  {
   "cell_type": "code",
   "execution_count": null,
   "metadata": {},
   "outputs": [],
   "source": [
    "# |export\n",
    "def get_config():\n",
    "    \"Get a copy of config variables\"\n",
    "    return copy(_config)"
   ]
  },
  {
   "cell_type": "code",
   "execution_count": null,
   "metadata": {},
   "outputs": [],
   "source": [
    "# |export\n",
    "@contextmanager\n",
    "def config( precision       :Optional[Union[Default,int]]   =D,\n",
    "            threshold_min   :Optional[Union[Default,int]]   =D,\n",
    "            threshold_max   :Optional[Union[Default,int]]   =D,\n",
    "            sci_mode        :Optional[Union[Default,bool]]  =D,\n",
    "            indent          :Optional[Union[Default,bool]]  =D,\n",
    "            color           :Optional[Union[Default,bool]]  =D,\n",
    "            deeper_width    :Optional[Union[Default,int]]   =D,\n",
    "            plt_seed        :Optional[Union[Default,int]]   =D,\n",
    "            fig_close       :Optional[Union[Default,bool]]  =D,\n",
    "            fig_show        :Optional[Union[Default,bool]]  =D\n",
    "            ):\n",
    "\n",
    "\n",
    "    \"Context manager for temporarily setting printting options.\"\n",
    "    global _config\n",
    "    new_opts = { k:v for k, v in locals().items() if v != D }\n",
    "    old_opts = copy(get_config().__dict__)\n",
    "\n",
    "    try:\n",
    "        set_config(**new_opts)\n",
    "        yield\n",
    "    finally:\n",
    "        set_config(**old_opts)"
   ]
  },
  {
   "cell_type": "markdown",
   "metadata": {},
   "source": [
    "## Examples"
   ]
  },
  {
   "cell_type": "code",
   "execution_count": null,
   "metadata": {},
   "outputs": [],
   "source": [
    "# |hide\n",
    "\n",
    "# In the next cell I'm importing the functios from the exported .py as part of the examples code\n",
    "# This overrides the functions defined above!\n",
    "# Make sure the code is in sync\n",
    "\n",
    "import nbdev; nbdev.nbdev_export()"
   ]
  },
  {
   "cell_type": "code",
   "execution_count": null,
   "metadata": {},
   "outputs": [],
   "source": [
    "import jax.numpy as jnp\n",
    "from lovely_jax import set_config, get_config, config, monkey_patch"
   ]
  },
  {
   "cell_type": "code",
   "execution_count": null,
   "metadata": {},
   "outputs": [],
   "source": [
    "monkey_patch()"
   ]
  },
  {
   "cell_type": "markdown",
   "metadata": {},
   "source": [
    "### Precision"
   ]
  },
  {
   "cell_type": "code",
   "execution_count": null,
   "metadata": {},
   "outputs": [
    {
     "data": {
      "text/plain": [
       "Array[3] μ=1.50000 σ=0.70711 \u001b[31mNaN!\u001b[0m gpu:0 [1.00000, 2.00000, nan]"
      ]
     },
     "execution_count": null,
     "metadata": {},
     "output_type": "execute_result"
    }
   ],
   "source": [
    "set_config(precision=5)\n",
    "jnp.array([1., 2, float(\"nan\")])"
   ]
  },
  {
   "cell_type": "code",
   "execution_count": null,
   "metadata": {},
   "outputs": [
    {
     "data": {
      "text/plain": [
       "Array[3] μ=1.50000 σ=0.70711 \u001b[31mNaN!\u001b[0m gpu:0 [1.00000, 2.00000, nan]"
      ]
     },
     "execution_count": null,
     "metadata": {},
     "output_type": "execute_result"
    }
   ],
   "source": [
    "jnp.array([1., 2, float(\"nan\")])"
   ]
  },
  {
   "cell_type": "code",
   "execution_count": null,
   "metadata": {},
   "outputs": [],
   "source": [
    "# |hide\n",
    "test_array_repr(str(jnp.array([1., 2, float(\"nan\")])),\n",
    "        'Array[3] μ=1.50000 σ=0.70711 \\x1b[31mNaN!\\x1b[0m gpu:0 [1.00000, 2.00000, nan]')"
   ]
  },
  {
   "cell_type": "markdown",
   "metadata": {},
   "source": [
    "### Scientific mode"
   ]
  },
  {
   "cell_type": "code",
   "execution_count": null,
   "metadata": {},
   "outputs": [
    {
     "data": {
      "text/plain": [
       "'Array[3] μ=1.50000e+00 σ=7.07107e-01 \\x1b[31mNaN!\\x1b[0m gpu:0 [1.00000e+00, 2.00000e+00, nan]'"
      ]
     },
     "execution_count": null,
     "metadata": {},
     "output_type": "execute_result"
    }
   ],
   "source": [
    "set_config(sci_mode=True) # Force always on\n",
    "str(jnp.array([1., 2, float(\"nan\")]))"
   ]
  },
  {
   "cell_type": "code",
   "execution_count": null,
   "metadata": {},
   "outputs": [],
   "source": [
    "#| hide\n",
    "test_array_repr(str(jnp.array([1., 2, float(\"nan\")])),\n",
    "        'Array[3] μ=1.50000e+00 σ=7.07107e-01 \\x1b[31mNaN!\\x1b[0m gpu:0 [1.00000e+00, 2.00000e+00, nan]')"
   ]
  },
  {
   "cell_type": "markdown",
   "metadata": {},
   "source": [
    "### Color on/off"
   ]
  },
  {
   "cell_type": "code",
   "execution_count": null,
   "metadata": {},
   "outputs": [
    {
     "data": {
      "text/plain": [
       "Array[3] μ=1.50000e+00 σ=7.07107e-01 NaN! gpu:0 [1.00000e+00, 2.00000e+00, nan]"
      ]
     },
     "execution_count": null,
     "metadata": {},
     "output_type": "execute_result"
    }
   ],
   "source": [
    "set_config(color=False) # Force always off\n",
    "jnp.array([1., 2, float(\"nan\")])"
   ]
  },
  {
   "cell_type": "code",
   "execution_count": null,
   "metadata": {},
   "outputs": [],
   "source": [
    "test_array_repr(str(jnp.array([1., 2, float(\"nan\")])),\n",
    "        'Array[3] μ=1.50000e+00 σ=7.07107e-01 NaN! gpu:0 [1.00000e+00, 2.00000e+00, nan]')"
   ]
  },
  {
   "cell_type": "markdown",
   "metadata": {},
   "source": [
    "### Control .deeper"
   ]
  },
  {
   "cell_type": "code",
   "execution_count": null,
   "metadata": {},
   "outputs": [
    {
     "data": {
      "text/plain": [
       "Array[3, 196, 196] n=115248 x∈[-2.11790e+00, 2.64000e+00] μ=-3.88310e-01 σ=1.07319e+00 NaN! gpu:0\n",
       "  Array[196, 196] n=38416 x∈[-2.11790e+00, 2.24891e+00] μ=-3.24352e-01 σ=1.03586e+00 gpu:0\n",
       "    Array[196] x∈[-1.91241e+00, 2.24891e+00] μ=-6.73483e-01 σ=5.20629e-01 gpu:0\n",
       "    Array[196] x∈[-1.86103e+00, 2.16328e+00] μ=-7.38488e-01 σ=4.17012e-01 gpu:0\n",
       "    Array[196] x∈[-1.75828e+00, 2.19753e+00] μ=-8.05501e-01 σ=3.95835e-01 gpu:0\n",
       "    ...\n",
       "  Array[196, 196] n=38416 x∈[-1.96569e+00, 2.42857e+00] μ=-2.73903e-01 σ=9.72665e-01 NaN! gpu:0\n",
       "    Array[196] x∈[-1.86064e+00, 2.41106e+00] μ=-5.28772e-01 σ=5.54540e-01 gpu:0\n",
       "    Array[196] x∈[-1.82563e+00, 2.35854e+00] μ=-5.61732e-01 σ=4.71564e-01 gpu:0\n",
       "    Array[196] x∈[-1.75560e+00, 2.37605e+00] μ=-6.21756e-01 σ=4.57265e-01 gpu:0\n",
       "    ...\n",
       "  Array[196, 196] n=38416 x∈[-1.80444e+00, 2.64000e+00] μ=-5.66673e-01 σ=1.17775e+00 gpu:0\n",
       "    Array[196] x∈[-1.71730e+00, 2.39599e+00] μ=-9.81537e-01 σ=3.49106e-01 gpu:0\n",
       "    Array[196] x∈[-1.75216e+00, 2.32627e+00] μ=-1.03418e+00 σ=3.13168e-01 gpu:0\n",
       "    Array[196] x∈[-1.64758e+00, 2.37856e+00] μ=-1.08647e+00 σ=3.13411e-01 gpu:0\n",
       "    ..."
      ]
     },
     "execution_count": null,
     "metadata": {},
     "output_type": "execute_result"
    }
   ],
   "source": [
    "set_config(deeper_width=3) \n",
    "image = jnp.load(\"mysteryman.npy\")\n",
    "image = image.at[1,100,100].set(float('nan'))\n",
    "\n",
    "image.deeper(2)"
   ]
  },
  {
   "cell_type": "code",
   "execution_count": null,
   "metadata": {},
   "outputs": [],
   "source": [
    "# test_eq(len(str(image.deeper(2))), 1197)"
   ]
  },
  {
   "cell_type": "markdown",
   "metadata": {},
   "source": [
    "### Reser to defaults"
   ]
  },
  {
   "cell_type": "code",
   "execution_count": null,
   "metadata": {},
   "outputs": [
    {
     "data": {
      "text/plain": [
       "'Array[3] μ=1.500 σ=0.707 \\x1b[31mNaN!\\x1b[0m gpu:0 [1.000, 2.000, nan]'"
      ]
     },
     "execution_count": null,
     "metadata": {},
     "output_type": "execute_result"
    }
   ],
   "source": [
    "set_config(precision=None, sci_mode=None, color=None, deeper_width=None)\n",
    "str(jnp.array([1., 2, float(\"nan\")]))"
   ]
  },
  {
   "cell_type": "code",
   "execution_count": null,
   "metadata": {},
   "outputs": [],
   "source": [
    "test_array_repr(str(jnp.array([1., 2, float(\"nan\")])),\n",
    "    'Array[3] μ=1.500 σ=0.707 \\x1b[31mNaN!\\x1b[0m gpu:0 [1.000, 2.000, nan]')"
   ]
  },
  {
   "cell_type": "markdown",
   "metadata": {},
   "source": [
    "### Context manager"
   ]
  },
  {
   "cell_type": "code",
   "execution_count": null,
   "metadata": {},
   "outputs": [
    {
     "data": {
      "text/plain": [
       "Array[3] μ=1.500 σ=0.707 \u001b[31mNaN!\u001b[0m gpu:0 [1.000, 2.000, nan]"
      ]
     },
     "metadata": {},
     "output_type": "display_data"
    },
    {
     "data": {
      "text/plain": [
       "Array[3] μ=1.500e+00 σ=7.071e-01 NaN! gpu:0 [1.000e+00, 2.000e+00, nan]"
      ]
     },
     "metadata": {},
     "output_type": "display_data"
    },
    {
     "data": {
      "text/plain": [
       "Array[3] μ=1.500 σ=0.707 \u001b[31mNaN!\u001b[0m gpu:0 [1.000, 2.000, nan]"
      ]
     },
     "metadata": {},
     "output_type": "display_data"
    }
   ],
   "source": [
    "display(jnp.array([1., 2, jnp.nan]))\n",
    "with config(sci_mode=True, color=False):\n",
    "    display(jnp.array([1., 2, jnp.nan]))\n",
    "display(jnp.array([1., 2, jnp.nan]))"
   ]
  },
  {
   "cell_type": "markdown",
   "metadata": {},
   "source": [
    "### Matplotlib and seed"
   ]
  },
  {
   "cell_type": "code",
   "execution_count": null,
   "metadata": {},
   "outputs": [],
   "source": [
    "# torch.manual_seed(42)\n",
    "# a = torch.randn(1000)"
   ]
  },
  {
   "cell_type": "code",
   "execution_count": null,
   "metadata": {},
   "outputs": [],
   "source": [
    "# _ = a.plt() # The figure was closed, nothing is displayed"
   ]
  },
  {
   "cell_type": "code",
   "execution_count": null,
   "metadata": {},
   "outputs": [],
   "source": [
    "# set_config(fig_close=False)\n",
    "# _ = a.plt() # figure was not closed. All figures that are not closed are displayed after the cell runs."
   ]
  },
  {
   "cell_type": "code",
   "execution_count": null,
   "metadata": {},
   "outputs": [],
   "source": [
    "# # |hide\n",
    "# set_config(fig_close=None)"
   ]
  },
  {
   "cell_type": "markdown",
   "metadata": {},
   "source": [
    "For performance reasons, <code>.plt</code> will randomly sample up tp `max_s` elements from the data (10k be default).\n",
    "\n",
    "You can change the seed used for this sampling (42 by default):"
   ]
  },
  {
   "cell_type": "code",
   "execution_count": null,
   "metadata": {},
   "outputs": [],
   "source": [
    "# set_config(plt_seed=1)\n",
    "# a.plt(max_s=100)"
   ]
  },
  {
   "cell_type": "code",
   "execution_count": null,
   "metadata": {},
   "outputs": [],
   "source": [
    "# set_config(plt_seed=2)\n",
    "# a.plt(max_s=100)"
   ]
  },
  {
   "attachments": {},
   "cell_type": "markdown",
   "metadata": {},
   "source": [
    "More details in [matplotlib](matplotlib.html)"
   ]
  }
 ],
 "metadata": {
  "kernelspec": {
   "display_name": "jax",
   "language": "python",
   "name": "python3"
  }
 },
 "nbformat": 4,
 "nbformat_minor": 2
}
