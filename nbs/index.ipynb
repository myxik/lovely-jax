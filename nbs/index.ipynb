{
 "cells": [
  {
   "cell_type": "markdown",
   "metadata": {},
   "source": [
    "# ❤️ Lovely JAX\n",
    "\n",
    "> After all, you are only human."
   ]
  },
  {
   "cell_type": "markdown",
   "metadata": {},
   "source": [
    "## Read full docs [here](https://xl0.github.io/lovely-tensors/). PyTorch version [here](https://github.com/xl0/lovely-tensors)"
   ]
  },
  {
   "cell_type": "markdown",
   "metadata": {},
   "source": [
    "## Install\n",
    "\n",
    "```sh\n",
    "pip install lovely-jax\n",
    "```"
   ]
  },
  {
   "cell_type": "markdown",
   "metadata": {},
   "source": [
    "## How to use"
   ]
  },
  {
   "cell_type": "code",
   "execution_count": null,
   "metadata": {},
   "outputs": [],
   "source": [
    "# |hide\n",
    "import numpy as np\n",
    "from PIL import Image\n",
    "import jax, jax.numpy as jnp\n",
    "from fastcore.test import test_eq"
   ]
  },
  {
   "cell_type": "code",
   "execution_count": null,
   "metadata": {},
   "outputs": [],
   "source": [
    "# |hide\n",
    "np.set_printoptions(linewidth=120, precision=3)"
   ]
  },
  {
   "cell_type": "code",
   "execution_count": null,
   "metadata": {},
   "outputs": [],
   "source": [
    "# |hide\n",
    "# Don't depend on torchvision\n",
    "# numbers = VF.normalize(VF.center_crop(VF.to_tensor(Image.open(\"tenchman.jpg\")), 196), **in_stats)\n",
    "numbers = jnp.load(\"mysteryman.npy\")\n",
    "numbers1 = numbers"
   ]
  },
  {
   "attachments": {},
   "cell_type": "markdown",
   "metadata": {},
   "source": [
    "How often do you find yourself debugging JAX code? You dump an array to the cell output, and see this:"
   ]
  },
  {
   "cell_type": "code",
   "execution_count": null,
   "metadata": {},
   "outputs": [],
   "source": [
    "# |hide\n",
    "import lovely_jax as lj"
   ]
  },
  {
   "cell_type": "code",
   "execution_count": null,
   "metadata": {},
   "outputs": [],
   "source": [
    "# |hide\n",
    "# A trick to make sure README.md shows the plain version.\n",
    "lj.monkey_patch()\n",
    "numbers = numbers.p\n"
   ]
  },
  {
   "cell_type": "code",
   "execution_count": null,
   "metadata": {},
   "outputs": [
    {
     "data": {
      "text/plain": [
       "Array([[[-0.354, -0.337, -0.405, ..., -0.56 , -0.474,  2.249],\n",
       "        [-0.405, -0.423, -0.491, ..., -0.919, -0.851,  2.163],\n",
       "        [-0.474, -0.474, -0.542, ..., -1.039, -1.039,  2.198],\n",
       "        ...,\n",
       "        [-0.902, -0.834, -0.936, ..., -1.467, -1.296,  2.232],\n",
       "        [-0.851, -0.782, -0.936, ..., -1.604, -1.501,  2.18 ],\n",
       "        [-0.834, -0.816, -0.971, ..., -1.656, -1.553,  2.112]],\n",
       "\n",
       "       [[-0.197, -0.197, -0.303, ..., -0.478, -0.373,  2.411],\n",
       "        [-0.25 , -0.232, -0.338, ..., -0.705, -0.67 ,  2.359],\n",
       "        [-0.303, -0.285, -0.39 , ..., -0.74 , -0.81 ,  2.376],\n",
       "        ...,\n",
       "        [-0.425, -0.232, -0.373, ..., -1.09 , -1.02 ,  2.429],\n",
       "        [-0.39 , -0.232, -0.425, ..., -1.23 , -1.23 ,  2.411],\n",
       "        [-0.408, -0.285, -0.478, ..., -1.283, -1.283,  2.341]],\n",
       "\n",
       "       [[-0.672, -0.985, -0.881, ..., -0.968, -0.689,  2.396],\n",
       "        [-0.724, -1.072, -0.968, ..., -1.247, -1.02 ,  2.326],\n",
       "        [-0.828, -1.125, -1.02 , ..., -1.264, -1.16 ,  2.379],\n",
       "        ...,\n",
       "        [-1.229, -1.473, -1.386, ..., -1.508, -1.264,  2.518],\n",
       "        [-1.194, -1.456, -1.421, ..., -1.648, -1.473,  2.431],\n",
       "        [-1.229, -1.526, -1.508, ..., -1.682, -1.526,  2.361]]], dtype=float32)"
      ]
     },
     "execution_count": null,
     "metadata": {},
     "output_type": "execute_result"
    }
   ],
   "source": [
    "numbers"
   ]
  },
  {
   "cell_type": "code",
   "execution_count": null,
   "metadata": {},
   "outputs": [],
   "source": [
    "# | hide\n",
    "numbers = numbers1"
   ]
  },
  {
   "cell_type": "markdown",
   "metadata": {},
   "source": [
    "Was it really useful for you, as a human, to see all these numbers?\n",
    "\n",
    "What is the shape? The size?\\\n",
    "What are the statistics?\\\n",
    "Are any of the values `nan` or `inf`?\\\n",
    "Is it an image of a man holding a tench?"
   ]
  },
  {
   "cell_type": "code",
   "execution_count": null,
   "metadata": {},
   "outputs": [],
   "source": [
    "import lovely_jax as lj"
   ]
  },
  {
   "cell_type": "code",
   "execution_count": null,
   "metadata": {},
   "outputs": [],
   "source": [
    "lj.monkey_patch()"
   ]
  },
  {
   "cell_type": "markdown",
   "metadata": {},
   "source": [
    "## `__repr__`"
   ]
  },
  {
   "cell_type": "code",
   "execution_count": null,
   "metadata": {},
   "outputs": [
    {
     "data": {
      "text/plain": [
       "Array[3, 196, 196] n=115248 x∈[-2.118, 2.640] μ=-0.388 σ=1.073"
      ]
     },
     "execution_count": null,
     "metadata": {},
     "output_type": "execute_result"
    }
   ],
   "source": [
    "numbers # torch.Tensor"
   ]
  },
  {
   "cell_type": "markdown",
   "metadata": {},
   "source": [
    "Better, huh?"
   ]
  },
  {
   "cell_type": "code",
   "execution_count": null,
   "metadata": {},
   "outputs": [
    {
     "data": {
      "text/plain": [
       "Array[6] x∈[-0.443, -0.197] μ=-0.311 σ=0.083 [-0.197, -0.232, -0.285, -0.373, -0.443, -0.338]"
      ]
     },
     "execution_count": null,
     "metadata": {},
     "output_type": "execute_result"
    }
   ],
   "source": [
    "numbers[1,:6,1] # Still shows values if there are not too many."
   ]
  },
  {
   "cell_type": "code",
   "execution_count": null,
   "metadata": {},
   "outputs": [
    {
     "data": {
      "text/plain": [
       "Array[2, 6] n=12 x∈[-3.541e+03, -3.369e-05] μ=-393.776 σ=1.113e+03 \u001b[31m+inf!\u001b[0m \u001b[31m-inf!\u001b[0m \u001b[31mnan!\u001b[0m"
      ]
     },
     "execution_count": null,
     "metadata": {},
     "output_type": "execute_result"
    }
   ],
   "source": [
    "spicy = numbers.flatten()[:12].copy()\n",
    "\n",
    "spicy = (spicy  .at[0].mul(10000)\n",
    "                .at[1].divide(10000)\n",
    "                .at[2].set(float('inf'))\n",
    "                .at[3].set(float('-inf'))\n",
    "                .at[4].set(float('nan'))\n",
    "                .reshape((2,6)))\n",
    "spicy # Spicy stuff"
   ]
  },
  {
   "cell_type": "code",
   "execution_count": null,
   "metadata": {},
   "outputs": [
    {
     "data": {
      "text/plain": [
       "Array[10, 10] n=100 \u001b[38;2;127;127;127mall_zeros\u001b[0m"
      ]
     },
     "execution_count": null,
     "metadata": {},
     "output_type": "execute_result"
    }
   ],
   "source": [
    "jnp.zeros((10, 10)) # A zero tensor - make it obvious"
   ]
  },
  {
   "cell_type": "code",
   "execution_count": null,
   "metadata": {},
   "outputs": [
    {
     "data": {
      "text/plain": [
       "Array[2, 6] n=12 x∈[-3.541e+03, -3.369e-05] μ=-393.776 σ=1.113e+03 \u001b[31m+inf!\u001b[0m \u001b[31m-inf!\u001b[0m \u001b[31mnan!\u001b[0m\n",
       "Array([[-3.541e+03, -3.369e-05,        inf,       -inf,        nan, -4.054e-01],\n",
       "       [-4.226e-01, -4.911e-01, -5.082e-01, -5.596e-01, -5.424e-01, -5.082e-01]], dtype=float32)"
      ]
     },
     "execution_count": null,
     "metadata": {},
     "output_type": "execute_result"
    }
   ],
   "source": [
    "spicy.v # Verbose"
   ]
  },
  {
   "cell_type": "code",
   "execution_count": null,
   "metadata": {},
   "outputs": [
    {
     "data": {
      "text/plain": [
       "Array([[-3.541e+03, -3.369e-05,        inf,       -inf,        nan, -4.054e-01],\n",
       "       [-4.226e-01, -4.911e-01, -5.082e-01, -5.596e-01, -5.424e-01, -5.082e-01]], dtype=float32)"
      ]
     },
     "execution_count": null,
     "metadata": {},
     "output_type": "execute_result"
    }
   ],
   "source": [
    "spicy.p # The plain old way"
   ]
  },
  {
   "cell_type": "markdown",
   "metadata": {},
   "source": [
    "## Going `.deeper`"
   ]
  },
  {
   "cell_type": "code",
   "execution_count": null,
   "metadata": {},
   "outputs": [
    {
     "data": {
      "text/plain": [
       "Array[3, 196, 196] n=115248 x∈[-2.118, 2.640] μ=-0.388 σ=1.073\n",
       "  Array[196, 196] n=38416 x∈[-2.118, 2.249] μ=-0.324 σ=1.036\n",
       "  Array[196, 196] n=38416 x∈[-1.966, 2.429] μ=-0.274 σ=0.973\n",
       "  Array[196, 196] n=38416 x∈[-1.804, 2.640] μ=-0.567 σ=1.178"
      ]
     },
     "execution_count": null,
     "metadata": {},
     "output_type": "execute_result"
    }
   ],
   "source": [
    "numbers.deeper"
   ]
  },
  {
   "cell_type": "code",
   "execution_count": null,
   "metadata": {},
   "outputs": [
    {
     "data": {
      "text/plain": [
       "Array[3, 3, 5] n=45 x∈[-1.316, -0.197] μ=-0.593 σ=0.302\n",
       "  Array[3, 5] n=15 x∈[-0.765, -0.337] μ=-0.492 σ=0.119\n",
       "    Array[5] x∈[-0.440, -0.337] μ=-0.385 σ=0.037 [-0.354, -0.337, -0.405, -0.440, -0.388]\n",
       "    Array[5] x∈[-0.662, -0.405] μ=-0.512 σ=0.097 [-0.405, -0.423, -0.491, -0.577, -0.662]\n",
       "    Array[5] x∈[-0.765, -0.474] μ=-0.580 σ=0.112 [-0.474, -0.474, -0.542, -0.645, -0.765]\n",
       "  Array[3, 5] n=15 x∈[-0.513, -0.197] μ=-0.321 σ=0.096\n",
       "    Array[5] x∈[-0.303, -0.197] μ=-0.243 σ=0.049 [-0.197, -0.197, -0.303, -0.303, -0.215]\n",
       "    Array[5] x∈[-0.408, -0.232] μ=-0.327 σ=0.075 [-0.250, -0.232, -0.338, -0.408, -0.408]\n",
       "    Array[5] x∈[-0.513, -0.285] μ=-0.394 σ=0.091 [-0.303, -0.285, -0.390, -0.478, -0.513]\n",
       "  Array[3, 5] n=15 x∈[-1.316, -0.672] μ=-0.964 σ=0.170\n",
       "    Array[5] x∈[-0.985, -0.672] μ=-0.846 σ=0.110 [-0.672, -0.985, -0.881, -0.776, -0.916]\n",
       "    Array[5] x∈[-1.212, -0.724] μ=-0.989 σ=0.160 [-0.724, -1.072, -0.968, -0.968, -1.212]\n",
       "    Array[5] x∈[-1.316, -0.828] μ=-1.058 σ=0.160 [-0.828, -1.125, -1.020, -1.003, -1.316]"
      ]
     },
     "execution_count": null,
     "metadata": {},
     "output_type": "execute_result"
    }
   ],
   "source": [
    "# You can go deeper if you need to\n",
    "numbers[:,:3,:5].deeper(2)"
   ]
  },
  {
   "cell_type": "code",
   "execution_count": null,
   "metadata": {},
   "outputs": [],
   "source": [
    "# __tracebackhide__=False\n",
    "\n",
    "# def f(x):\n",
    "#     __tracebackhide__=False\n",
    "\n",
    "#     jax.debug.print(\" sdfs {x} sfsdf\", x=x)\n",
    "#     jax.debug.print(\" sdfs {x} sfsdf\", x=type(x))\n",
    "#     return x*2\n",
    "\n",
    "# fj = jax.jit(f)\n",
    "\n",
    "# _ = fj(numbers)\n",
    "\n",
    "\n",
    "# # print(numbers)"
   ]
  },
  {
   "cell_type": "code",
   "execution_count": null,
   "metadata": {},
   "outputs": [
    {
     "name": "stdout",
     "output_type": "stream",
     "text": [
      "Array[3, 196, 196] n=115248 x∈[-2.118, 2.640] μ=-0.388 σ=1.073\n"
     ]
    }
   ],
   "source": [
    "print(repr(numbers))"
   ]
  },
  {
   "cell_type": "code",
   "execution_count": null,
   "metadata": {},
   "outputs": [],
   "source": [
    "# |hide\n",
    "\n",
    "# numbers.rgb"
   ]
  },
  {
   "cell_type": "code",
   "execution_count": null,
   "metadata": {},
   "outputs": [],
   "source": [
    "# |hide\n",
    "\n",
    "# in_stats = ( (0.485, 0.456, 0.406),     # mean \n",
    "#              (0.229, 0.224, 0.225) )    # std\n",
    "\n",
    "# numbers.rgb(in_stats, cl=True) # For channel-last input format\n",
    "# numbers.rgb(in_stats)"
   ]
  },
  {
   "cell_type": "code",
   "execution_count": null,
   "metadata": {},
   "outputs": [],
   "source": [
    "# |hide\n",
    "\n",
    "# torch.manual_seed(42) # For reproducibility of flots, otherwise we updatem the images in git every time."
   ]
  },
  {
   "cell_type": "code",
   "execution_count": null,
   "metadata": {},
   "outputs": [],
   "source": [
    "# |hide\n",
    "\n",
    "# (numbers+3).plt"
   ]
  },
  {
   "cell_type": "code",
   "execution_count": null,
   "metadata": {},
   "outputs": [],
   "source": [
    "# |hide\n",
    "\n",
    "# (numbers+3).plt(center=\"mean\", max_s=1000)"
   ]
  },
  {
   "cell_type": "code",
   "execution_count": null,
   "metadata": {},
   "outputs": [],
   "source": [
    "# |hide\n",
    "\n",
    "\n",
    "# (numbers+3).plt(center=\"range\")"
   ]
  },
  {
   "cell_type": "code",
   "execution_count": null,
   "metadata": {},
   "outputs": [],
   "source": [
    "# |hide\n",
    "\n",
    "# .chans will map values betwen [0,1] to colors.\n",
    "# Make our values fit into that range to avoid clipping.\n",
    "# mean = torch.tensor(in_stats[0])[:,None,None]\n",
    "# std = torch.tensor(in_stats[1])[:,None,None]\n",
    "# numbers_01 = (numbers*std + mean)\n",
    "# numbers_01"
   ]
  },
  {
   "cell_type": "code",
   "execution_count": null,
   "metadata": {},
   "outputs": [],
   "source": [
    "# |hide\n",
    "# |eval: false\n",
    "\n",
    "# numbers_01.chans"
   ]
  },
  {
   "cell_type": "code",
   "execution_count": null,
   "metadata": {},
   "outputs": [],
   "source": [
    "# |hide\n",
    "# |eval: false\n",
    "\n",
    "\n",
    "# |eval: false\n",
    "# from torchvision.models import vgg11"
   ]
  },
  {
   "cell_type": "code",
   "execution_count": null,
   "metadata": {},
   "outputs": [],
   "source": [
    "# |hide\n",
    "# |eval: false\n",
    "\n",
    "# features = vgg11().features\n",
    "\n",
    "# Note: I only saved the first 5 layers in \"features.pt\"\n",
    "# _ = features.load_state_dict(torch.load(\"../features.pt\"), strict=False)"
   ]
  },
  {
   "cell_type": "code",
   "execution_count": null,
   "metadata": {},
   "outputs": [],
   "source": [
    "# |hide\n",
    "# |eval: false\n",
    "\n",
    "# Activatons of the second max pool layer of VGG11\n",
    "\n",
    "# print(features[5])\n",
    "\n",
    "# acts = (features[:6](numbers[None])[0]/2) # /2 to reduce clipping\n",
    "# acts"
   ]
  },
  {
   "cell_type": "code",
   "execution_count": null,
   "metadata": {},
   "outputs": [],
   "source": [
    "# |hide\n",
    "# |eval: false\n",
    "\n",
    "# acts.chans"
   ]
  },
  {
   "cell_type": "markdown",
   "metadata": {},
   "source": [
    "## Without `.monkey_patch`"
   ]
  },
  {
   "cell_type": "code",
   "execution_count": null,
   "metadata": {},
   "outputs": [
    {
     "data": {
      "text/plain": [
       "Array[2, 6] n=12 x∈[-3.541e+03, -3.369e-05] μ=-393.776 σ=1.113e+03 \u001b[31m+inf!\u001b[0m \u001b[31m-inf!\u001b[0m \u001b[31mnan!\u001b[0m"
      ]
     },
     "execution_count": null,
     "metadata": {},
     "output_type": "execute_result"
    }
   ],
   "source": [
    "lj.lovely(spicy)"
   ]
  },
  {
   "cell_type": "code",
   "execution_count": null,
   "metadata": {},
   "outputs": [
    {
     "data": {
      "text/plain": [
       "Array[2, 6] n=12 x∈[-3.541e+03, -3.369e-05] μ=-393.776 σ=1.113e+03 \u001b[31m+inf!\u001b[0m \u001b[31m-inf!\u001b[0m \u001b[31mnan!\u001b[0m\n",
       "Array([[-3.541e+03, -3.369e-05,        inf,       -inf,        nan, -4.054e-01],\n",
       "       [-4.226e-01, -4.911e-01, -5.082e-01, -5.596e-01, -5.424e-01, -5.082e-01]], dtype=float32)"
      ]
     },
     "execution_count": null,
     "metadata": {},
     "output_type": "execute_result"
    }
   ],
   "source": [
    "lj.lovely(spicy, verbose=True)"
   ]
  },
  {
   "cell_type": "code",
   "execution_count": null,
   "metadata": {},
   "outputs": [
    {
     "data": {
      "text/plain": [
       "Array[3, 196, 196] n=115248 x∈[-2.118, 2.640] μ=-0.388 σ=1.073\n",
       "  Array[196, 196] n=38416 x∈[-2.118, 2.249] μ=-0.324 σ=1.036\n",
       "  Array[196, 196] n=38416 x∈[-1.966, 2.429] μ=-0.274 σ=0.973\n",
       "  Array[196, 196] n=38416 x∈[-1.804, 2.640] μ=-0.567 σ=1.178"
      ]
     },
     "execution_count": null,
     "metadata": {},
     "output_type": "execute_result"
    }
   ],
   "source": [
    "lj.lovely(numbers, depth=1)"
   ]
  },
  {
   "cell_type": "code",
   "execution_count": null,
   "metadata": {},
   "outputs": [],
   "source": [
    "# |hide\n",
    "\n",
    "#lj.rgb(numbers, in_stats)"
   ]
  },
  {
   "cell_type": "code",
   "execution_count": null,
   "metadata": {},
   "outputs": [],
   "source": [
    "# |hide\n",
    "# torch.manual_seed(42) # For reproducibility of flots, otherwise we updatem the images in git every time."
   ]
  },
  {
   "cell_type": "code",
   "execution_count": null,
   "metadata": {},
   "outputs": [],
   "source": [
    "# |hide\n",
    "\n",
    "# lt.plot(numbers, center=\"mean\")"
   ]
  },
  {
   "cell_type": "code",
   "execution_count": null,
   "metadata": {},
   "outputs": [],
   "source": [
    "# |hide\n",
    "\n",
    "# lt.chans(numbers_01)"
   ]
  }
 ],
 "metadata": {
  "kernelspec": {
   "display_name": "jax",
   "language": "python",
   "name": "python3"
  }
 },
 "nbformat": 4,
 "nbformat_minor": 4
}
